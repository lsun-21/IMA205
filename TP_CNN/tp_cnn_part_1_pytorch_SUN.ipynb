{
 "cells": [
  {
   "cell_type": "markdown",
   "metadata": {
    "id": "Es_iHEzxW190"
   },
   "source": [
    "# TP Coding Convolutional Neural Networks in Pytorch - part 1\n",
    "\n",
    "For any remark or suggestion, please feel free to contact me at:\n",
    "\n",
    "- alasdair.newson@telecom-paris.fr\n",
    "\n",
    "### Objective:\n",
    "\n",
    "We want to implement a Convolutional Neural Network (CNN) for image recognition. For this we will use two well-known datasets, the first simpler and the second more complicated :\n",
    "\n",
    "- MNIST (images of digits)\n",
    "- CIFAR-10 dataset https://www.cs.toronto.edu/~kriz/cifar.html.\n",
    "\n",
    "The CIFAR-10 dataset consists of 60000 32x32 colour images in 10 classes, with 6000 images per class. There are 50000 training images and 10000 test images.\n",
    "\n",
    "We will first code the simple ConvNet described below using the Pytorch environment : https://pytorch.org/.\n",
    "\n",
    "- In general, the input of a classification CNN is a set of (c,m,n) image tensors, where are the image sizes, and c is the number of channels of the image. For mnist, the number of channels is c=1, and for CIFAR10, it is c=3.\n",
    "- For the first case of mnist images, we apply the following layers: \n",
    "    - a Convolutional layer of 32 filters of shape (3,3), with stride (1,1) and padding='same' (i.e. we apply zero-padding)\n",
    "    - additive biases\n",
    "    - a ReLu activation function\n",
    "    - a Convolutional layer of 32 filters of shape (3,3), with stride (1,1) and padding='same' (i.e. we apply zero-padding)\n",
    "    - additive biases\n",
    "    - a ReLu activation function\n",
    "    - a Max Pooling Layer of shape (2,2) and stride (2,2) (i.e. we reduce by two the size in each dimension)\n",
    "    - We then Flatten the data (reduce them to a vector in order to be able to apply a Fully-Connected layer to it)\n",
    "    - A softmax activation function which outputs are the $P(y_c | X)$ (multi-class problem)\n",
    "\n",
    "Here is a visual example of the above architecture, with c=3:\n",
    "\n",
    "<IMG SRC='https://perso.telecom-paristech.fr/anewson/doc/ima_205/images/TP_ima_CNN.png'>\n",
    "        \n",
    "### Your task:\n",
    "You need to add the missing parts in the code (parts between # --- START CODE HERE and # --- END CODE HERE)"
   ]
  },
  {
   "cell_type": "markdown",
   "metadata": {
    "id": "Cgyu2GBVW192"
   },
   "source": [
    "# Load packages"
   ]
  },
  {
   "cell_type": "code",
   "execution_count": 1,
   "metadata": {
    "id": "1Qj5KY79W192"
   },
   "outputs": [
    {
     "name": "stderr",
     "output_type": "stream",
     "text": [
      "/Users/lauriasun/opt/anaconda3/lib/python3.9/site-packages/torchvision/io/image.py:13: UserWarning: Failed to load image Python extension: dlopen(/Users/lauriasun/opt/anaconda3/lib/python3.9/site-packages/torchvision/image.so, 0x0006): Symbol not found: __ZN2at4_ops19empty_memory_format4callEN3c108ArrayRefIxEENS2_8optionalINS2_10ScalarTypeEEENS5_INS2_6LayoutEEENS5_INS2_6DeviceEEENS5_IbEENS5_INS2_12MemoryFormatEEE\n",
      "  Referenced from: <67CD63CE-57E0-341F-B3B8-78729B03D2B3> /Users/lauriasun/opt/anaconda3/lib/python3.9/site-packages/torchvision/image.so\n",
      "  Expected in:     <908CA0CD-2294-3FE1-BD48-F54A78458210> /Users/lauriasun/opt/anaconda3/lib/python3.9/site-packages/torch/lib/libtorch_cpu.dylib\n",
      "  warn(f\"Failed to load image Python extension: {e}\")\n"
     ]
    }
   ],
   "source": [
    "%matplotlib inline\n",
    "import matplotlib.pyplot as plt\n",
    "import numpy as np\n",
    "\n",
    "import torch\n",
    "import torch.nn as nn\n",
    "import torch.nn.functional as F\n",
    "import torch.optim as optim\n",
    "import torchvision.datasets as datasets\n",
    "import torchvision.transforms as transforms"
   ]
  },
  {
   "cell_type": "code",
   "execution_count": 1,
   "metadata": {},
   "outputs": [
    {
     "name": "stdout",
     "output_type": "stream",
     "text": [
      "Collecting package metadata (current_repodata.json): done\n",
      "Solving environment: done\n",
      "\n",
      "## Package Plan ##\n",
      "\n",
      "  environment location: /Users/lauriasun/opt/anaconda3\n",
      "\n",
      "  added / updated specs:\n",
      "    - pytorch\n",
      "    - torchvision\n",
      "\n",
      "\n",
      "The following packages will be downloaded:\n",
      "\n",
      "    package                    |            build\n",
      "    ---------------------------|-----------------\n",
      "    libuv-1.44.2               |       h6c40b1e_0         388 KB\n",
      "    ninja-1.10.2               |       hecd8cb5_5           9 KB\n",
      "    ninja-base-1.10.2          |       haf03e11_5         118 KB\n",
      "    pytorch-1.13.1             |cpu_py39h9e40b02_0        48.2 MB\n",
      "    torchvision-0.13.1         |cpu_py39hc47236b_0         6.0 MB\n",
      "    ------------------------------------------------------------\n",
      "                                           Total:        54.7 MB\n",
      "\n",
      "The following NEW packages will be INSTALLED:\n",
      "\n",
      "  libuv              pkgs/main/osx-64::libuv-1.44.2-h6c40b1e_0 \n",
      "  ninja              pkgs/main/osx-64::ninja-1.10.2-hecd8cb5_5 \n",
      "  ninja-base         pkgs/main/osx-64::ninja-base-1.10.2-haf03e11_5 \n",
      "  pytorch            pkgs/main/osx-64::pytorch-1.13.1-cpu_py39h9e40b02_0 \n",
      "  torchvision        pkgs/main/osx-64::torchvision-0.13.1-cpu_py39hc47236b_0 \n",
      "\n",
      "\n",
      "\n",
      "Downloading and Extracting Packages\n",
      "ninja-base-1.10.2    | 118 KB    |                                       |   0% \n",
      "libuv-1.44.2         | 388 KB    |                                       |   0% \u001b[A\n",
      "\n",
      "pytorch-1.13.1       | 48.2 MB   |                                       |   0% \u001b[A\u001b[A\n",
      "\n",
      "\n",
      "ninja-1.10.2         | 9 KB      |                                       |   0% \u001b[A\u001b[A\u001b[A\n",
      "\n",
      "\n",
      "\n",
      "torchvision-0.13.1   | 6.0 MB    |                                       |   0% \u001b[A\u001b[A\u001b[A\u001b[A\n",
      "\n",
      "\n",
      "ninja-1.10.2         | 9 KB      | ##################################### | 100% \u001b[A\u001b[A\u001b[A\n",
      "\n",
      "pytorch-1.13.1       | 48.2 MB   | 1                                     |   0% \u001b[A\u001b[A\n",
      "libuv-1.44.2         | 388 KB    | ######################9               |  62% \u001b[A\n",
      "ninja-base-1.10.2    | 118 KB    | #####                                 |  14% \u001b[A\n",
      "\n",
      "\n",
      "\n",
      "torchvision-0.13.1   | 6.0 MB    |                                       |   0% \u001b[A\u001b[A\u001b[A\u001b[A\n",
      "\n",
      "ninja-base-1.10.2    | 118 KB    | ##################################### | 100% \u001b[A\u001b[A\n",
      "\n",
      "\n",
      "\n",
      "torchvision-0.13.1   | 6.0 MB    | ##2                                   |   6% \u001b[A\u001b[A\u001b[A\u001b[A\n",
      "\n",
      "pytorch-1.13.1       | 48.2 MB   | #3                                    |   4% \u001b[A\u001b[A\n",
      "\n",
      "\n",
      "\n",
      "torchvision-0.13.1   | 6.0 MB    | ####8                                 |  13% \u001b[A\u001b[A\u001b[A\u001b[A\n",
      "\n",
      "pytorch-1.13.1       | 48.2 MB   | ##1                                   |   6% \u001b[A\u001b[A\n",
      "\n",
      "\n",
      "\n",
      "torchvision-0.13.1   | 6.0 MB    | #########                             |  25% \u001b[A\u001b[A\u001b[A\u001b[A\n",
      "\n",
      "pytorch-1.13.1       | 48.2 MB   | ##9                                   |   8% \u001b[A\u001b[A\n",
      "\n",
      "\n",
      "\n",
      "torchvision-0.13.1   | 6.0 MB    | ###########8                          |  32% \u001b[A\u001b[A\u001b[A\u001b[A\n",
      "\n",
      "pytorch-1.13.1       | 48.2 MB   | ###6                                  |  10% \u001b[A\u001b[A\n",
      "\n",
      "pytorch-1.13.1       | 48.2 MB   | ####3                                 |  12% \u001b[A\u001b[A\n",
      "\n",
      "\n",
      "\n",
      "torchvision-0.13.1   | 6.0 MB    | ##############6                       |  40% \u001b[A\u001b[A\u001b[A\u001b[A\n",
      "\n",
      "pytorch-1.13.1       | 48.2 MB   | #####                                 |  14% \u001b[A\u001b[A\n",
      "\n",
      "\n",
      "\n",
      "torchvision-0.13.1   | 6.0 MB    | ################9                     |  46% \u001b[A\u001b[A\u001b[A\u001b[A\n",
      "\n",
      "pytorch-1.13.1       | 48.2 MB   | #####8                                |  16% \u001b[A\u001b[A\n",
      "\n",
      "\n",
      "\n",
      "torchvision-0.13.1   | 6.0 MB    | ###################8                  |  54% \u001b[A\u001b[A\u001b[A\u001b[A\n",
      "\n",
      "pytorch-1.13.1       | 48.2 MB   | ######5                               |  18% \u001b[A\u001b[A\n",
      "\n",
      "\n",
      "\n",
      "torchvision-0.13.1   | 6.0 MB    | ######################6               |  61% \u001b[A\u001b[A\u001b[A\u001b[A\n",
      "\n",
      "pytorch-1.13.1       | 48.2 MB   | #######3                              |  20% \u001b[A\u001b[A\n",
      "\n",
      "\n",
      "\n",
      "torchvision-0.13.1   | 6.0 MB    | #########################1            |  68% \u001b[A\u001b[A\u001b[A\u001b[A\n",
      "\n",
      "pytorch-1.13.1       | 48.2 MB   | ########1                             |  22% \u001b[A\u001b[A\n",
      "\n",
      "\n",
      "\n",
      "torchvision-0.13.1   | 6.0 MB    | ############################          |  76% \u001b[A\u001b[A\u001b[A\u001b[A\n",
      "\n",
      "pytorch-1.13.1       | 48.2 MB   | ########9                             |  24% \u001b[A\u001b[A\n",
      "\n",
      "\n",
      "\n",
      "torchvision-0.13.1   | 6.0 MB    | ###############################1      |  84% \u001b[A\u001b[A\u001b[A\u001b[A\n",
      "\n",
      "pytorch-1.13.1       | 48.2 MB   | #########7                            |  26% \u001b[A\u001b[A\n",
      "\n",
      "\n",
      "\n",
      "torchvision-0.13.1   | 6.0 MB    | #################################9    |  92% \u001b[A\u001b[A\u001b[A\u001b[A\n",
      "\n",
      "pytorch-1.13.1       | 48.2 MB   | ##########5                           |  28% \u001b[A\u001b[A\n",
      "\n",
      "pytorch-1.13.1       | 48.2 MB   | ###########3                          |  31% \u001b[A\u001b[A\n",
      "\n",
      "pytorch-1.13.1       | 48.2 MB   | ############3                         |  33% \u001b[A\u001b[A\n",
      "\n",
      "\n",
      "\n",
      "torchvision-0.13.1   | 6.0 MB    | ##################################### | 100% \u001b[A\u001b[A\u001b[A\u001b[A\n",
      "\n",
      "\n",
      "\n",
      "torchvision-0.13.1   | 6.0 MB    | ##################################### | 100% \u001b[A\u001b[A\u001b[A\u001b[A\n",
      "\n",
      "pytorch-1.13.1       | 48.2 MB   | #############4                        |  36% \u001b[A\u001b[A\n",
      "\n",
      "pytorch-1.13.1       | 48.2 MB   | ##############5                       |  39% \u001b[A\u001b[A\n",
      "\n",
      "pytorch-1.13.1       | 48.2 MB   | ###############7                      |  42% \u001b[A\u001b[A\n",
      "\n",
      "pytorch-1.13.1       | 48.2 MB   | ################8                     |  46% \u001b[A\u001b[A\n",
      "\n",
      "pytorch-1.13.1       | 48.2 MB   | ##################                    |  49% \u001b[A\u001b[A\n",
      "\n",
      "pytorch-1.13.1       | 48.2 MB   | ###################2                  |  52% \u001b[A\u001b[A\n",
      "\n",
      "pytorch-1.13.1       | 48.2 MB   | ####################4                 |  55% \u001b[A\u001b[A\n",
      "\n",
      "pytorch-1.13.1       | 48.2 MB   | #####################5                |  58% \u001b[A\u001b[A\n",
      "\n",
      "pytorch-1.13.1       | 48.2 MB   | ######################7               |  61% \u001b[A\u001b[A\n",
      "\n",
      "pytorch-1.13.1       | 48.2 MB   | #######################8              |  64% \u001b[A\u001b[A\n",
      "\n",
      "pytorch-1.13.1       | 48.2 MB   | #########################             |  68% \u001b[A\u001b[A\n",
      "\n",
      "pytorch-1.13.1       | 48.2 MB   | ##########################2           |  71% \u001b[A\u001b[A\n",
      "\n",
      "pytorch-1.13.1       | 48.2 MB   | ###########################4          |  74% \u001b[A\u001b[A\n",
      "\n",
      "pytorch-1.13.1       | 48.2 MB   | ############################7         |  78% \u001b[A\u001b[A\n",
      "\n",
      "pytorch-1.13.1       | 48.2 MB   | #############################9        |  81% \u001b[A\u001b[A\n",
      "\n",
      "pytorch-1.13.1       | 48.2 MB   | ###############################1      |  84% \u001b[A\u001b[A\n",
      "\n",
      "pytorch-1.13.1       | 48.2 MB   | ################################3     |  87% \u001b[A\u001b[A\n",
      "\n",
      "pytorch-1.13.1       | 48.2 MB   | #################################5    |  91% \u001b[A\u001b[A\n",
      "\n",
      "pytorch-1.13.1       | 48.2 MB   | ##################################7   |  94% \u001b[A\u001b[A\n",
      "\n",
      "pytorch-1.13.1       | 48.2 MB   | ###################################9  |  97% \u001b[A\u001b[A\n",
      "\n",
      "                                                                                \u001b[A\u001b[A\n",
      "                                                                                \u001b[A\n",
      "\n",
      "                                                                                \u001b[A\u001b[A\n",
      "\n",
      "\n",
      "                                                                                \u001b[A\u001b[A\u001b[A\n",
      "\n",
      "\n",
      "\n",
      "                                                                                \u001b[A\u001b[A\u001b[A\u001b[A\n",
      "Preparing transaction: done\n",
      "Verifying transaction: done\n",
      "Executing transaction: done\n"
     ]
    }
   ],
   "source": [
    "!conda install --yes pytorch torchvision -c pytorch"
   ]
  },
  {
   "cell_type": "markdown",
   "metadata": {
    "id": "OHJ17JDiliHA"
   },
   "source": [
    "### CNN model in Pytorch\n",
    "\n",
    "There are several ways to write a CNN model in pytorch. In this lab, you will be using the _Sequential_ class of pytorch (similarly to Tensorflow). We will see the syntax further on.\n",
    "\n"
   ]
  },
  {
   "cell_type": "markdown",
   "metadata": {
    "id": "Q_S76Wi_W199"
   },
   "source": [
    "## Import data\n",
    "\n",
    "We first import MNIST dataset. We use the ```torch.utils.data.DataLoader``` function of Pytorch to easily iterate over mini-batches of data."
   ]
  },
  {
   "cell_type": "code",
   "execution_count": 2,
   "metadata": {
    "id": "BrYw9LK9W19-"
   },
   "outputs": [
    {
     "name": "stdout",
     "output_type": "stream",
     "text": [
      "Dataset MNIST\n",
      "    Number of datapoints: 60000\n",
      "    Root location: ./data\n",
      "    Split: Train\n",
      "    StandardTransform\n",
      "Transform: Compose(\n",
      "               ToTensor()\n",
      "           )\n"
     ]
    }
   ],
   "source": [
    "# convert input to Pytorch tensors\n",
    "input_transform=transforms.Compose( [transforms.ToTensor()])\n",
    "# extract mnist data\n",
    "mnist_trainset = datasets.MNIST(root='./data',train=True,download=True,transform=input_transform)\n",
    "print(mnist_trainset)\n",
    "\n",
    "#create data loader with smaller dataset size\n",
    "max_mnist_size = 1000\n",
    "mnist_trainset_reduced = torch.utils.data.random_split(mnist_trainset, [max_mnist_size, len(mnist_trainset)-max_mnist_size])[0] \n",
    "mnist_train_loader = torch.utils.data.DataLoader(mnist_trainset_reduced, batch_size=256, shuffle=True)\n",
    "\n",
    "# download test dataset\n",
    "mnist_testset = datasets.MNIST(root='./data',train=False,download=True,transform=input_transform)\n",
    "mnist_test_loader = torch.utils.data.DataLoader(mnist_testset, batch_size=256, shuffle=True)\n",
    "\n",
    "# extract the actual data and labels\n",
    "X_train = torch.unsqueeze(mnist_trainset.data,axis=1)[0:max_mnist_size]/255.0\n",
    "Y_train = mnist_trainset.targets[0:max_mnist_size]\n",
    "X_test = torch.unsqueeze(mnist_testset.data,axis=1)/255.0\n",
    "Y_test = mnist_testset.targets\n"
   ]
  },
  {
   "cell_type": "markdown",
   "metadata": {
    "id": "Ss6fBjWrAS4U"
   },
   "source": [
    "### Exploring the data\n",
    "\n",
    "The mnist data is downloaded into ```mnist_trainset```. We can explore the dataset manually, although when we will train it, we will use the ```DataLoader``` of Pytorch. ```torch.utils.data.DataLoader``` is a useful function to extract batches of data from a dataset, applying the transformations which we have specified (conversion to Pytorch tensor, normalisation etc).\n",
    "\n",
    "The images are contained in a sub-structure of ```mnist_trainset``` called ```data```. The labels are contained in another sub-structure of ```mnist_trainset``` called ```targets```. Note that these are kept in their native format (the transformations are not applied to them), so to use them we have to apply the transformation manually, as above.\n",
    "\n",
    "__NOTE__ In general, if you want to find out what a structure contains, use the command ```dir()```, this will give you a list of the sub-structures."
   ]
  },
  {
   "cell_type": "code",
   "execution_count": 3,
   "metadata": {
    "id": "rMqnFhbH9bcq"
   },
   "outputs": [
    {
     "name": "stdout",
     "output_type": "stream",
     "text": [
      "['__add__', '__class__', '__class_getitem__', '__delattr__', '__dict__', '__dir__', '__doc__', '__eq__', '__format__', '__ge__', '__getattribute__', '__getitem__', '__gt__', '__hash__', '__init__', '__init_subclass__', '__le__', '__len__', '__lt__', '__module__', '__ne__', '__new__', '__orig_bases__', '__parameters__', '__reduce__', '__reduce_ex__', '__repr__', '__setattr__', '__sizeof__', '__slots__', '__str__', '__subclasshook__', '__weakref__', '_check_exists', '_check_legacy_exist', '_format_transform_repr', '_is_protocol', '_load_data', '_load_legacy_data', '_repr_indent', 'class_to_idx', 'classes', 'data', 'download', 'extra_repr', 'mirrors', 'processed_folder', 'raw_folder', 'resources', 'root', 'target_transform', 'targets', 'test_data', 'test_file', 'test_labels', 'train', 'train_data', 'train_labels', 'training_file', 'transform', 'transforms']\n",
      "Size of training data :  torch.Size([60000, 28, 28])\n",
      "Size of training labels :  torch.Size([60000])\n"
     ]
    }
   ],
   "source": [
    "print(dir(mnist_trainset))\n",
    "\n",
    "print(\"Size of training data : \", mnist_trainset.data.shape)\n",
    "print(\"Size of training labels : \", mnist_trainset.targets.shape)\n"
   ]
  },
  {
   "cell_type": "markdown",
   "metadata": {
    "id": "MnTkYmu-W1-E"
   },
   "source": [
    "The mnist dataset has 10 classes. These are the following :"
   ]
  },
  {
   "cell_type": "code",
   "execution_count": 4,
   "metadata": {
    "id": "kvJ7McU7W1-F"
   },
   "outputs": [],
   "source": [
    "mnist_list = [ '0', '1','2','3','4','5','6','7','8','9']"
   ]
  },
  {
   "cell_type": "markdown",
   "metadata": {
    "id": "6f_7d1NnW1-L"
   },
   "source": [
    "### Display some of the images"
   ]
  },
  {
   "cell_type": "code",
   "execution_count": 5,
   "metadata": {
    "id": "9OcnfCwbW1-M"
   },
   "outputs": [
    {
     "data": {
      "image/png": "[encoded data removed]",
      "text/plain": [
       "<Figure size 1000x600 with 10 Axes>"
      ]
     },
     "metadata": {},
     "output_type": "display_data"
    }
   ],
   "source": [
    "plt.figure(figsize=(10, 6))\n",
    "for idx in range(0,10):\n",
    "    plt.subplot(2, 5, idx+1)\n",
    "    rand_ind = np.random.randint(0,mnist_trainset.data.shape[0])\n",
    "    plt.imshow(mnist_trainset.data[rand_ind,:,:],cmap='gray')\n",
    "    plt.title(mnist_list[int(mnist_trainset.targets[rand_ind])])"
   ]
  },
  {
   "cell_type": "markdown",
   "metadata": {
    "id": "YzRfY8QTBIX-"
   },
   "source": [
    "## Defining the model for MNIST\n",
    "\n",
    "We will now define the simple CNN described above, for use with MNIST. The input of the CNN is a set of (28,28,1) image tensors. We apply the following layers:\n",
    "\n",
    "    - a Convolutional layer of 32 filters of shape (3,3), with stride (1,1) and padding='same'\n",
    "    - a ReLu activation function\n",
    "    \n",
    "    - a Convolutional layer of 32 filters of shape (3,3), with stride (1,1) and padding='same'\n",
    "    - a ReLu activation function\n",
    "    - a Max Pooling Layer of shape (2,2) and stride (2,2) (i.e. we reduce by two the size in each dimension)\n",
    "    \n",
    "    - We then Flatten the data: reduce them to a vector in order to be able to apply a Fully-Connected layer to it\n",
    "    - Dense (fully connected) layer. Note, you will have to determine the input size, that is to say the number of elements after the last Max Pooling layer.\n",
    "\n",
    "__VERY IMPORTANT NOTE !!!__\n",
    "\n",
    "Pytorch carries out the softmax which we would expect at the end of our network automatically, so there is no need to add it. Nevertheless, you must understand that the output is a vector which is _not_ normalised to be a probability distributuion. This will be important later on.\n",
    "\n",
    "Now, we define the following hyper-parameters of the model :"
   ]
  },
  {
   "cell_type": "code",
   "execution_count": 6,
   "metadata": {
    "id": "3T9d8TYFBONz"
   },
   "outputs": [],
   "source": [
    "\n",
    "learning_rate = 0.01\n",
    "n_epochs = 10\n",
    "batch_size = 64\n",
    "nb_classes = int(mnist_trainset.targets.max()+1)\n",
    "\n",
    "# number of convolutional filters to use\n",
    "nb_filters = 32\n",
    "# convolution kernel size\n",
    "kernel_size = (3, 3)\n",
    "# size of pooling area for max pooling\n",
    "pool_size = (2, 2)\n",
    "\n",
    "# --- Size of the successive layers\n",
    "n_h_0 = 1 #greyscale input images\n",
    "n_h_1 = nb_filters\n",
    "n_h_2 = nb_filters"
   ]
  },
  {
   "cell_type": "markdown",
   "metadata": {
    "id": "5MOihxZ-W1-W"
   },
   "source": [
    "# 1. Model 1 : defining a CNN with the Sequential API of Pytorch for MNIST\n",
    "\n",
    "We are now going to create the CNN with Pytorch.\n",
    "\n",
    "The Sequential approach is quite similar to that of Tensorflow. To define a model, just write:\n",
    "\n",
    "```my_model = torch.nn.Sequential( first_layer, second_layer, ...)```\n",
    "\n",
    "Each layer must be a function imported from the Pytorch. You can use the following functions:\n",
    "\n",
    "- ```torch.nn.Conv2d()```\n",
    "- ```torch.nn.ReLU()```\n",
    "- ```torch.nn.MaxPool2d()```\n",
    "- ```torch.nn.Flatten()```\n",
    "- ```torch.nn.Linear()```\n",
    "\n",
    "Look at the documentation online to find the correct parameters. For example:\n",
    "\n",
    "- https://pytorch.org/docs/stable/generated/torch.nn.Conv2d.html\n"
   ]
  },
  {
   "cell_type": "code",
   "execution_count": 7,
   "metadata": {
    "id": "npx-4C1SW1-X"
   },
   "outputs": [],
   "source": [
    "# BEGIN STUDENT CODE\n",
    "mnist_model = torch.nn.Sequential(torch.nn.Conv2d(n_h_0, n_h_1, kernel_size, stride=1, padding='same'), torch.nn.ReLU(), torch.nn.Conv2d(\n",
    "    n_h_1, n_h_2, kernel_size, stride=1, padding='same'), torch.nn.ReLU(), torch.nn.MaxPool2d(pool_size, stride=2), torch.nn.Flatten(), torch.nn.Linear(n_h_2 * 14*14, 10))\n",
    "# END STUDENT CODE"
   ]
  },
  {
   "cell_type": "markdown",
   "metadata": {
    "id": "7FJS2SGeEwHF"
   },
   "source": [
    "### Define loss function and optimiser\n",
    "\n",
    "Pytorch provides an easy way to define the loss criterion to optimise. The syntax is (considering that the Adam optimiser is used):\n",
    "\n",
    "- ```criterion = torch.nn.BCELoss()``` or ```criterion = torch.nn.CrossEntropyLoss()```, etc., depending on your problem.\n",
    "- ```optimizer = torch.optim.Adam(mnist_model.parameters(), lr=learning_rate)```\n",
    "\n",
    "Fill in the following code, choosing the correct criterion to optimise."
   ]
  },
  {
   "cell_type": "code",
   "execution_count": 8,
   "metadata": {
    "id": "AK1pxqFCE090"
   },
   "outputs": [],
   "source": [
    "# BEGIN STUDENT CODE\n",
    "criterion = torch.nn.CrossEntropyLoss()\n",
    "optimizer = torch.optim.Adam(mnist_model.parameters(), lr=learning_rate)\n",
    "# END STUDENT CODE"
   ]
  },
  {
   "cell_type": "markdown",
   "metadata": {
    "id": "42zy2XwsNfTQ"
   },
   "source": [
    "### CNN prediction conversion\n",
    "\n",
    "We recall here that the output of the classification CNN in Pytorch is a vector which is __NOT__ normalised to be a probability distribution. Therefore, for the purposes of finding the prediction of the CNN, we create a function which first converts an input vector to a probability distribution, and then determines the most likely class for each vector. The output should be, for each vector, an integer between 0 and (number of classes) $-1$.\n",
    "\n",
    "The inputs to this function will be Pytorch tensors, so you can use the following Pytorch functions on them :\n",
    "\n",
    "- ```torch.nn.Softmax()```\n",
    "- ```torch.argmax()```\n",
    "\n",
    "Create this function now."
   ]
  },
  {
   "cell_type": "code",
   "execution_count": 9,
   "metadata": {
    "id": "TqCPink-N1LB"
   },
   "outputs": [],
   "source": [
    "def vector_to_class(x):\n",
    "    # BEGIN STUDENT CODE\n",
    "    softMax = torch.nn.Softmax(1)(x)\n",
    "    y = torch.argmax(softMax, dim=1)\n",
    "    # END STUDENT CODE\n",
    "    return y"
   ]
  },
  {
   "cell_type": "markdown",
   "metadata": {
    "id": "sYzRpoTgGhpG"
   },
   "source": [
    "### Accuracy\n",
    "\n",
    "Now, define a function which calcualtes the accuracy of the output of the neural network, with respect to the input labels. We consider that the input is a vector of class numbers (the final prediction of the CNN)."
   ]
  },
  {
   "cell_type": "code",
   "execution_count": 10,
   "metadata": {
    "id": "f4V5LKDhGsQT"
   },
   "outputs": [],
   "source": [
    "def cnn_accuracy(predict,labels):\n",
    "  # BEGIN STUDENT CODE\n",
    "  accuracy = np.asarray(labels==predict).mean()\n",
    "  # END STUDENT CODE\n",
    "  return accuracy"
   ]
  },
  {
   "cell_type": "markdown",
   "metadata": {
    "id": "ljHi0tfiW1-h"
   },
   "source": [
    "## Training the model\n",
    "\n",
    "Now, we carry out the actual training of the model."
   ]
  },
  {
   "cell_type": "code",
   "execution_count": 11,
   "metadata": {
    "id": "HVe9ZWAdW1-h"
   },
   "outputs": [
    {
     "name": "stderr",
     "output_type": "stream",
     "text": [
      "[W NNPACK.cpp:53] Could not initialize NNPACK! Reason: Unsupported hardware.\n"
     ]
    },
    {
     "name": "stdout",
     "output_type": "stream",
     "text": [
      "Epoch:0 Train Loss:0.0096\n",
      "Accuracy:0.2328\n",
      "Epoch:1 Train Loss:0.0089\n",
      "Accuracy:0.5388\n",
      "Epoch:2 Train Loss:0.0064\n",
      "Accuracy:0.6940\n",
      "Epoch:3 Train Loss:0.0031\n",
      "Accuracy:0.7672\n",
      "Epoch:4 Train Loss:0.0020\n",
      "Accuracy:0.8534\n",
      "Epoch:5 Train Loss:0.0028\n",
      "Accuracy:0.8405\n",
      "Epoch:6 Train Loss:0.0016\n",
      "Accuracy:0.8707\n",
      "Epoch:7 Train Loss:0.0016\n",
      "Accuracy:0.8534\n",
      "Epoch:8 Train Loss:0.0013\n",
      "Accuracy:0.9181\n",
      "Epoch:9 Train Loss:0.0014\n",
      "Accuracy:0.8966\n"
     ]
    }
   ],
   "source": [
    "train_losses = []\n",
    "valid_losses = []\n",
    "\n",
    "for epoch in range(0, n_epochs):\n",
    "    train_loss = 0.0\n",
    "\n",
    "    for batch_idx, (imgs, labels) in enumerate(mnist_train_loader):\n",
    "\n",
    "        # set the gradients back to 0\n",
    "        optimizer.zero_grad()\n",
    "        predict = mnist_model(imgs)  # FILL IN STUDENT\n",
    "        # apply loss function\n",
    "        loss = criterion(predict, labels)\n",
    "        # backpropagation\n",
    "        loss.backward()\n",
    "        optimizer.step()\n",
    "        train_loss = loss.item()\n",
    "    print('Epoch:{} Train Loss:{:.4f}'.format(epoch, train_loss/imgs.shape[0]))\n",
    "    # calculate accuracy\n",
    "\n",
    "    print('Accuracy:{:.4f}'.format(\n",
    "        cnn_accuracy(vector_to_class(predict), labels)))"
   ]
  },
  {
   "cell_type": "code",
   "execution_count": 12,
   "metadata": {
    "id": "rOsF40hkEqx1"
   },
   "outputs": [
    {
     "name": "stdout",
     "output_type": "stream",
     "text": [
      "Train Accuracy: 0.862\n",
      "Test Accuracy: 0.8847\n"
     ]
    }
   ],
   "source": [
    "\n",
    "# Calculate accuracy on the training set and the test set\n",
    "\n",
    "# BEGIN FILL IN STUDENT (use X_train, Y_train, X_test, Y_test)\n",
    "predict_train = vector_to_class(mnist_model(X_train))\n",
    "predict_test = vector_to_class(mnist_model(X_test))\n",
    "\n",
    "\n",
    "train_accuracy = cnn_accuracy(predict_train,Y_train)\n",
    "test_accuracy = cnn_accuracy(predict_test,Y_test)\n",
    "# END FILL IN STUDENT\n",
    "print(\"Train Accuracy:\", train_accuracy)\n",
    "print(\"Test Accuracy:\", test_accuracy)\n",
    "\n",
    "\n",
    "    "
   ]
  },
  {
   "cell_type": "code",
   "execution_count": 13,
   "metadata": {
    "id": "cRxCNvMO5Yzm"
   },
   "outputs": [
    {
     "name": "stdout",
     "output_type": "stream",
     "text": [
      "Visual results : \n"
     ]
    },
    {
     "data": {
      "image/png": "[encoded data removed]",
      "text/plain": [
       "<Figure size 1000x600 with 10 Axes>"
      ]
     },
     "metadata": {},
     "output_type": "display_data"
    }
   ],
   "source": [
    "print(\"Visual results : \")\n",
    "\n",
    "plt.figure(figsize=(10, 6))\n",
    "for idx in range(0,10):\n",
    "    plt.subplot(2, 5, idx+1)\n",
    "    rand_ind = np.random.randint(0,X_test.shape[0])\n",
    "    test_img = torch.unsqueeze(X_test[rand_ind,:,:,:],axis=1)\n",
    "    predicted_class = vector_to_class(mnist_model(test_img))\n",
    "    plt.imshow(test_img.squeeze(),cmap='gray')\n",
    "    plt.title(mnist_list[int(predicted_class)])"
   ]
  },
  {
   "cell_type": "markdown",
   "metadata": {
    "id": "M5D5BY20W1-m"
   },
   "source": [
    "## Model 2: create a CNN on CIFAR10\n",
    "\n",
    "We are now going to train the same network architecture on a more difficult dataset : CIFAR10\n",
    "\n",
    "First, we import the CIFAR10 data and carry out some pre-processing :"
   ]
  },
  {
   "cell_type": "code",
   "execution_count": 14,
   "metadata": {
    "id": "k15abDeRW1-m"
   },
   "outputs": [
    {
     "name": "stdout",
     "output_type": "stream",
     "text": [
      "Downloading https://www.cs.toronto.edu/~kriz/cifar-10-python.tar.gz to ./data/cifar-10-python.tar.gz\n"
     ]
    },
    {
     "data": {
      "application/vnd.jupyter.widget-view+json": {
       "model_id": "24330f0204594f7986f1ea0a05506f4c",
       "version_major": 2,
       "version_minor": 0
      },
      "text/plain": [
       "  0%|          | 0/170498071 [00:00<?, ?it/s]"
      ]
     },
     "metadata": {},
     "output_type": "display_data"
    },
    {
     "name": "stdout",
     "output_type": "stream",
     "text": [
      "Extracting ./data/cifar-10-python.tar.gz to ./data\n",
      "Dataset CIFAR10\n",
      "    Number of datapoints: 50000\n",
      "    Root location: ./data\n",
      "    Split: Train\n",
      "    StandardTransform\n",
      "Transform: Compose(\n",
      "               ToTensor()\n",
      "           )\n",
      "Files already downloaded and verified\n"
     ]
    }
   ],
   "source": [
    "# convert input to Pytorch tensors\n",
    "input_transform=transforms.Compose( [transforms.ToTensor()])\n",
    "# extract mnist data\n",
    "cifar_trainset = datasets.CIFAR10(root='./data',train=True,download=True,transform=input_transform)\n",
    "print(cifar_trainset)\n",
    "\n",
    "#create data loader with smaller dataset size\n",
    "max_cifar_size = 2000\n",
    "cifar_trainset_reduced = torch.utils.data.random_split(cifar_trainset, [max_cifar_size, len(cifar_trainset)-max_cifar_size])[0] \n",
    "cifar_train_loader = torch.utils.data.DataLoader(cifar_trainset_reduced, batch_size=256, shuffle=True)\n",
    "\n",
    "# download test dataset\n",
    "cifar_testset = datasets.CIFAR10(root='./data',train=False,download=True,transform=input_transform)\n",
    "cifar_test_loader = torch.utils.data.DataLoader(cifar_testset, batch_size=256, shuffle=True)\n",
    "\n",
    "# extract the actual data and labels\n",
    "X_train = cifar_trainset.data[0:max_cifar_size]/255.0\n",
    "Y_train = cifar_trainset.targets[0:max_cifar_size]\n",
    "X_test = cifar_testset.data/255.0\n",
    "Y_test = cifar_testset.targets\n",
    "\n",
    "nb_channels = X_train.shape[-1]\n"
   ]
  },
  {
   "cell_type": "code",
   "execution_count": 15,
   "metadata": {
    "id": "5Al5b-S37T4A"
   },
   "outputs": [],
   "source": [
    "# the CIFAR10 categories\n",
    "cifar_10_list = [ 'airplane', 'automobile','bird','cat','deer','dog','frog','horse','ship','truck']\n",
    "\n",
    "#modify the number of input channels \n",
    "n_h_0 = nb_channels\n",
    "# add more epochs\n",
    "n_epochs = 30"
   ]
  },
  {
   "cell_type": "markdown",
   "metadata": {
    "id": "WpM3zdF_W1-x"
   },
   "source": [
    "### Display some of the images"
   ]
  },
  {
   "cell_type": "code",
   "execution_count": 16,
   "metadata": {
    "id": "PeFaoz2AW1-y"
   },
   "outputs": [
    {
     "data": {
      "image/png": "[encoded data removed]",
      "text/plain": [
       "<Figure size 1000x600 with 10 Axes>"
      ]
     },
     "metadata": {},
     "output_type": "display_data"
    }
   ],
   "source": [
    "plt.figure(figsize=(10, 6))\n",
    "for idx in range(0,10):\n",
    "    plt.subplot(2, 5, idx+1)\n",
    "    rand_ind = np.random.randint(0,X_test.shape[0])\n",
    "    plt.imshow(X_test[rand_ind,:,:,:])\n",
    "    plt.title(cifar_10_list[int(Y_test[rand_ind])])"
   ]
  },
  {
   "cell_type": "markdown",
   "metadata": {
    "id": "XrGI_L3OW1-3"
   },
   "source": [
    "## Define the architecture again, for CIFAR10\n",
    "\n",
    "In this case, we are going to add a layer because the data is more complex. Therefore, we use the following architecture :\n",
    "\n",
    "    - a Convolutional layer of 32 filters of shape (3,3), with stride (1,1) and padding='same'\n",
    "    - additive biases\n",
    "    - a ReLu activation function\n",
    "    \n",
    "    - a Convolutional layer of 32 filters of shape (3,3), with stride (1,1) and padding='same'\n",
    "    - additive biases\n",
    "    - a ReLu activation function\n",
    "    - a Max Pooling Layer of shape (2,2) and stride (2,2) (i.e. we reduce by two the size in each dimension)\n",
    "    \n",
    "    - a Convolutional layer of 32 filters of shape (3,3), with stride (1,1) and padding='same'\n",
    "    - additive biases\n",
    "    - a ReLu activation function\n",
    "    - a Max Pooling Layer of shape (2,2) and stride (2,2) (i.e. we reduce by two the size in each dimension)\n",
    "    \n",
    "    - We then Flatten the data (reduce them to a vector in order to be able to apply a Fully-Connected layer to it)\n",
    "    - Dense (fully connected) layer. Note, you will have to determine the input size, that is to say the number of elements after the last Max Pooling layer.\n",
    "    - ReLU activation function\n",
    "    - Dense (fully connected) layer"
   ]
  },
  {
   "cell_type": "code",
   "execution_count": 17,
   "metadata": {
    "id": "OEs-EnXLW1-4"
   },
   "outputs": [],
   "source": [
    "\n",
    "learning_rate = 0.01\n",
    "n_epochs = 50\n",
    "batch_size = 64\n",
    "\n",
    "# number of convolutional filters to use\n",
    "nb_filters = 32\n",
    "# convolution kernel size\n",
    "kernel_size = (3, 3)\n",
    "# size of pooling area for max pooling\n",
    "pool_size = (2, 2)\n",
    "\n",
    "\n",
    "# --- Size of the successive layers\n",
    "n_h_0 = nb_channels\n",
    "n_h_1 = nb_filters\n",
    "n_h_2 = nb_filters\n",
    "n_h_3 = nb_filters"
   ]
  },
  {
   "cell_type": "markdown",
   "metadata": {
    "id": "I0ACZkTFW1-7"
   },
   "source": [
    "Now, modify the previous code (you can copy/paste/modify the necessary parts) to define the model for CIFAR10."
   ]
  },
  {
   "cell_type": "code",
   "execution_count": 18,
   "metadata": {
    "id": "RmbX6oq0W1-7"
   },
   "outputs": [],
   "source": [
    "# BEGIN STUDENT CODE\n",
    "\n",
    "in_layer = torch.nn.Conv2d(n_h_0, n_h_1, kernel_size, stride=1,padding='same')\n",
    "h1_layer = torch.nn.Conv2d(n_h_1,n_h_2,kernel_size,stride=1,padding='same')\n",
    "p1_layer = torch.nn.MaxPool2d(pool_size,stride=2)\n",
    "h2_layer = torch.nn.Conv2d(n_h_2,n_h_3,kernel_size,stride=1,padding='same')\n",
    "p2_layer = torch.nn.MaxPool2d(pool_size,stride=2)\n",
    "h3_layer  =torch.nn.Linear(n_h_3*8*8,n_h_3*8*8)\n",
    "out_layer = torch.nn.Linear(n_h_3 *8*8,10)\n",
    "\n",
    "cifar_model = torch.nn.Sequential(in_layer,\n",
    "                                 torch.nn.ReLU(),\n",
    "                                 h1_layer,\n",
    "                                 torch.nn.ReLU(),\n",
    "                                 p1_layer,\n",
    "                                 h2_layer,\n",
    "                                 torch.nn.ReLU(),\n",
    "                                 p2_layer,\n",
    "                                 torch.nn.Flatten(),\n",
    "                                 h3_layer,\n",
    "                                 torch.nn.ReLU(),\n",
    "                                 out_layer\n",
    "                                 )\n",
    "\n",
    "criterion = torch.nn.CrossEntropyLoss()\n",
    "optimizer = torch.optim.Adam(cifar_model.parameters(),lr=learning_rate)\n",
    "# END STUDENT CODE"
   ]
  },
  {
   "cell_type": "markdown",
   "metadata": {
    "id": "KUmQKIEe8_QU"
   },
   "source": [
    "Now, carry out training on the CIFAR10 dataset (use the previous code as an example)."
   ]
  },
  {
   "cell_type": "code",
   "execution_count": 19,
   "metadata": {
    "id": "pyEwLnLR9gv0"
   },
   "outputs": [
    {
     "name": "stdout",
     "output_type": "stream",
     "text": [
      "Epoch:0 Train Loss:0.0111\n",
      "Accuracy:0.1442\n",
      "Epoch:1 Train Loss:0.0111\n",
      "Accuracy:0.1010\n",
      "Epoch:2 Train Loss:0.0110\n",
      "Accuracy:0.1202\n",
      "Epoch:3 Train Loss:0.0105\n",
      "Accuracy:0.1923\n",
      "Epoch:4 Train Loss:0.0108\n",
      "Accuracy:0.1827\n",
      "Epoch:5 Train Loss:0.0097\n",
      "Accuracy:0.2692\n",
      "Epoch:6 Train Loss:0.0092\n",
      "Accuracy:0.3173\n",
      "Epoch:7 Train Loss:0.0095\n",
      "Accuracy:0.3269\n",
      "Epoch:8 Train Loss:0.0090\n",
      "Accuracy:0.2548\n",
      "Epoch:9 Train Loss:0.0090\n",
      "Accuracy:0.3317\n",
      "Epoch:10 Train Loss:0.0087\n",
      "Accuracy:0.2981\n",
      "Epoch:11 Train Loss:0.0085\n",
      "Accuracy:0.3269\n",
      "Epoch:12 Train Loss:0.0089\n",
      "Accuracy:0.3365\n",
      "Epoch:13 Train Loss:0.0078\n",
      "Accuracy:0.3846\n",
      "Epoch:14 Train Loss:0.0078\n",
      "Accuracy:0.4423\n",
      "Epoch:15 Train Loss:0.0079\n",
      "Accuracy:0.4615\n",
      "Epoch:16 Train Loss:0.0080\n",
      "Accuracy:0.4279\n",
      "Epoch:17 Train Loss:0.0077\n",
      "Accuracy:0.4375\n",
      "Epoch:18 Train Loss:0.0072\n",
      "Accuracy:0.4615\n",
      "Epoch:19 Train Loss:0.0061\n",
      "Accuracy:0.5240\n",
      "Epoch:20 Train Loss:0.0070\n",
      "Accuracy:0.4375\n",
      "Epoch:21 Train Loss:0.0061\n",
      "Accuracy:0.5337\n",
      "Epoch:22 Train Loss:0.0059\n",
      "Accuracy:0.5529\n",
      "Epoch:23 Train Loss:0.0053\n",
      "Accuracy:0.5962\n",
      "Epoch:24 Train Loss:0.0050\n",
      "Accuracy:0.6154\n",
      "Epoch:25 Train Loss:0.0045\n",
      "Accuracy:0.6587\n",
      "Epoch:26 Train Loss:0.0046\n",
      "Accuracy:0.6394\n",
      "Epoch:27 Train Loss:0.0037\n",
      "Accuracy:0.7308\n",
      "Epoch:28 Train Loss:0.0039\n",
      "Accuracy:0.7019\n",
      "Epoch:29 Train Loss:0.0037\n",
      "Accuracy:0.7548\n",
      "Epoch:30 Train Loss:0.0029\n",
      "Accuracy:0.7981\n",
      "Epoch:31 Train Loss:0.0025\n",
      "Accuracy:0.8173\n",
      "Epoch:32 Train Loss:0.0026\n",
      "Accuracy:0.8029\n",
      "Epoch:33 Train Loss:0.0027\n",
      "Accuracy:0.7933\n",
      "Epoch:34 Train Loss:0.0024\n",
      "Accuracy:0.8462\n",
      "Epoch:35 Train Loss:0.0022\n",
      "Accuracy:0.8462\n",
      "Epoch:36 Train Loss:0.0018\n",
      "Accuracy:0.8942\n",
      "Epoch:37 Train Loss:0.0018\n",
      "Accuracy:0.8846\n",
      "Epoch:38 Train Loss:0.0022\n",
      "Accuracy:0.8365\n",
      "Epoch:39 Train Loss:0.0020\n",
      "Accuracy:0.8894\n",
      "Epoch:40 Train Loss:0.0015\n",
      "Accuracy:0.9038\n",
      "Epoch:41 Train Loss:0.0013\n",
      "Accuracy:0.8894\n",
      "Epoch:42 Train Loss:0.0007\n",
      "Accuracy:0.9567\n",
      "Epoch:43 Train Loss:0.0010\n",
      "Accuracy:0.9231\n",
      "Epoch:44 Train Loss:0.0021\n",
      "Accuracy:0.8365\n",
      "Epoch:45 Train Loss:0.0020\n",
      "Accuracy:0.8558\n",
      "Epoch:46 Train Loss:0.0022\n",
      "Accuracy:0.8125\n",
      "Epoch:47 Train Loss:0.0014\n",
      "Accuracy:0.9135\n",
      "Epoch:48 Train Loss:0.0012\n",
      "Accuracy:0.9087\n",
      "Epoch:49 Train Loss:0.0013\n",
      "Accuracy:0.9231\n"
     ]
    }
   ],
   "source": [
    "# BEGIN STUDENT CODE\n",
    "train_losses = []\n",
    "valid_losses = []\n",
    "\n",
    "for epoch in range(0, n_epochs):\n",
    "    train_loss = 0.0\n",
    "\n",
    "    for batch_idx, (imgs, labels) in enumerate(cifar_train_loader):\n",
    "\n",
    "        # set the gradients back to 0\n",
    "        optimizer.zero_grad()\n",
    "        predict = cifar_model(imgs)  # FILL IN STUDENT\n",
    "        # apply loss function\n",
    "        loss = criterion(predict, labels)\n",
    "        # backpropagation\n",
    "        loss.backward()\n",
    "        optimizer.step()\n",
    "        train_loss = loss.item()\n",
    "    print('Epoch:{} Train Loss:{:.4f}'.format(epoch, train_loss/imgs.shape[0]))\n",
    "    # calculate accuracy\n",
    "\n",
    "    print('Accuracy:{:.4f}'.format(\n",
    "        cnn_accuracy(vector_to_class(predict), labels)))\n",
    "# END STUDENT CODE"
   ]
  },
  {
   "cell_type": "markdown",
   "metadata": {
    "id": "afxhSlTZW1_A"
   },
   "source": [
    " What do you think about the results (better or worse than MNIST) ? Why do you think this is ? How could you improve the results ?"
   ]
  },
  {
   "cell_type": "markdown",
   "metadata": {},
   "source": [
    "Les résultats sont meilleurs dans ce cas que dans le cas de MNIST. Cela peut être du à l'ajout d'une couche de réseau dans l'algorithme. "
   ]
  },
  {
   "cell_type": "markdown",
   "metadata": {
    "id": "sIvS5eHEW1_A"
   },
   "source": [
    "## Visualising the convolutional weights\n",
    "\n",
    "You can explore the network parameters easily with Pytroch. Indeed, your model ```cifar_model``` is simply a list of layers, thus you can access the first layer with :\n",
    "- ```cifar_model[0]```\n",
    "\n",
    "If you want to find out the contents of this layer, use :\n",
    "\n",
    "```dir(cifar_model[0])```\n",
    "\n",
    "In particular, the convolutional weights are contained in the ```weights``` sub-structure (a multi-dimensional array). Note that this weight's size is : \n",
    "\n",
    "- $[n_{filters}, y_{size}, x_{size},n_{channels}]$\n",
    "\n",
    "Now, display all (32) trained filters of the first convolutional layer, taking only the first channel of each filter :"
   ]
  },
  {
   "cell_type": "code",
   "execution_count": 20,
   "metadata": {},
   "outputs": [
    {
     "name": "stdout",
     "output_type": "stream",
     "text": [
      "['T_destination', '__annotations__', '__call__', '__class__', '__constants__', '__delattr__', '__dict__', '__dir__', '__doc__', '__eq__', '__format__', '__ge__', '__getattr__', '__getattribute__', '__gt__', '__hash__', '__init__', '__init_subclass__', '__le__', '__lt__', '__module__', '__ne__', '__new__', '__reduce__', '__reduce_ex__', '__repr__', '__setattr__', '__setstate__', '__sizeof__', '__str__', '__subclasshook__', '__weakref__', '_apply', '_backward_hooks', '_buffers', '_call_impl', '_conv_forward', '_forward_hooks', '_forward_pre_hooks', '_get_backward_hooks', '_get_name', '_is_full_backward_hook', '_load_from_state_dict', '_load_state_dict_post_hooks', '_load_state_dict_pre_hooks', '_maybe_warn_non_full_backward_hook', '_modules', '_named_members', '_non_persistent_buffers_set', '_parameters', '_register_load_state_dict_pre_hook', '_register_state_dict_hook', '_replicate_for_data_parallel', '_reversed_padding_repeated_twice', '_save_to_state_dict', '_slow_forward', '_state_dict_hooks', '_version', 'add_module', 'apply', 'bfloat16', 'bias', 'buffers', 'children', 'cpu', 'cuda', 'dilation', 'double', 'dump_patches', 'eval', 'extra_repr', 'float', 'forward', 'get_buffer', 'get_extra_state', 'get_parameter', 'get_submodule', 'groups', 'half', 'in_channels', 'ipu', 'kernel_size', 'load_state_dict', 'modules', 'named_buffers', 'named_children', 'named_modules', 'named_parameters', 'out_channels', 'output_padding', 'padding', 'padding_mode', 'parameters', 'register_backward_hook', 'register_buffer', 'register_forward_hook', 'register_forward_pre_hook', 'register_full_backward_hook', 'register_load_state_dict_post_hook', 'register_module', 'register_parameter', 'requires_grad_', 'reset_parameters', 'set_extra_state', 'share_memory', 'state_dict', 'stride', 'to', 'to_empty', 'train', 'training', 'transposed', 'type', 'weight', 'xpu', 'zero_grad']\n"
     ]
    },
    {
     "data": {
      "text/plain": [
       "Conv2d(3, 32, kernel_size=(3, 3), stride=(1, 1), padding=same)"
      ]
     },
     "execution_count": 20,
     "metadata": {},
     "output_type": "execute_result"
    }
   ],
   "source": [
    "print(dir(cifar_model[0]))\n",
    "cifar_model[0]"
   ]
  },
  {
   "cell_type": "code",
   "execution_count": 21,
   "metadata": {
    "id": "BahI3aUN-3fG"
   },
   "outputs": [
    {
     "data": {
      "image/png": "[encoded data removed]",
      "text/plain": [
       "<Figure size 1000x600 with 32 Axes>"
      ]
     },
     "metadata": {},
     "output_type": "display_data"
    }
   ],
   "source": [
    "plt.figure(figsize=(10, 6))\n",
    "for num in range(0,32):\n",
    "    plt.subplot(8, 4, num+1)\n",
    "    # --- START CODE HERE\n",
    "    plt.imshow( (cifar_model[0].weight[num,:,:,0]).detach().numpy(),cmap='gray')\n",
    "    # --- END CODE HERE    "
   ]
  },
  {
   "cell_type": "markdown",
   "metadata": {
    "id": "zX6yNSiKBXDH"
   },
   "source": [
    "What do you think ? Pretty incomprehensible no ? Do not spend too long trying to interpret these filters, that way madness lies. Indeed, they say that you can find some researchers locked in their offices staring at convolutional filters, trying to find some semblance of meaning ...\n",
    "\n",
    "So, it seems that understanding a CNN by just looking at the filters is an exercise in futility. How can we do better ? Well, take a look at part 2 of the lab !"
   ]
  }
 ],
 "metadata": {
  "accelerator": "GPU",
  "colab": {
   "provenance": []
  },
  "kernelspec": {
   "display_name": "Python 3 (ipykernel)",
   "language": "python",
   "name": "python3"
  },
  "language_info": {
   "codemirror_mode": {
    "name": "ipython",
    "version": 3
   },
   "file_extension": ".py",
   "mimetype": "text/x-python",
   "name": "python",
   "nbconvert_exporter": "python",
   "pygments_lexer": "ipython3",
   "version": "3.9.12"
  }
 },
 "nbformat": 4,
 "nbformat_minor": 1
}
